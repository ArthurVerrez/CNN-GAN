{
 "cells": [
  {
   "cell_type": "markdown",
   "metadata": {},
   "source": [
    "Environments:\n",
    "- ```dlmines``` on GPU-equipped machines\n",
    "- ```tp_mines``` on base\n",
    "\n",
    "Launch Jupyter from ```tp_mines```\n",
    "\n",
    "- Copy from bucket:\n",
    "\n",
    "```gsutil cp -r gs://tp_mines/* ~/tp_mines/```\n",
    "\n",
    "- Copy to bucket:\n",
    "\n",
    "```gsutil config -b``` + follow procedure\n",
    "```gsutil cp -r ~/tp_mines/* gs://tp_mines/```"
   ]
  },
  {
   "cell_type": "code",
   "execution_count": 10,
   "metadata": {},
   "outputs": [],
   "source": [
    "originals_dir = \"pose_data/original/\"\n",
    "downsampled_dir = \"pose_data/downsampled/\"\n",
    "\n",
    "full_dir = downsampled_dir\n",
    "training_dir = \"pose_data/training/\"\n",
    "validation_dir = \"pose_data/validation/\""
   ]
  },
  {
   "cell_type": "markdown",
   "metadata": {},
   "source": [
    "## Imports"
   ]
  },
  {
   "cell_type": "code",
   "execution_count": 7,
   "metadata": {},
   "outputs": [],
   "source": [
    "import os\n",
    "from IPython.display import clear_output\n",
    "from PIL import Image\n",
    "from shutil import copyfile\n",
    "import numpy as np\n",
    "\n",
    "from tpbasics import img_numpy, show_img_file"
   ]
  },
  {
   "cell_type": "markdown",
   "metadata": {},
   "source": [
    "## Downsampling"
   ]
  },
  {
   "cell_type": "code",
   "execution_count": 8,
   "metadata": {},
   "outputs": [],
   "source": [
    "original_dim = (3968, 2976)\n",
    "downsampling_factor = 8\n",
    "downsampled_dim = tuple(dim // downsampling_factor for dim in original_dim)"
   ]
  },
  {
   "cell_type": "code",
   "execution_count": 9,
   "metadata": {},
   "outputs": [
    {
     "name": "stdout",
     "output_type": "stream",
     "text": [
      "Position_4 -    232/232\n"
     ]
    }
   ],
   "source": [
    "for pose_dir in os.listdir(originals_dir):\n",
    "    \n",
    "    originals_pose_path = originals_dir + pose_dir + \"/\"\n",
    "    downsampled_pose_path = downsampled_dir + pose_dir + \"/\"\n",
    "    \n",
    "    img_names = os.listdir(originals_pose_path)\n",
    "    \n",
    "    if not os.path.exists(downsampled_pose_path):\n",
    "        os.makedirs(downsampled_pose_path)\n",
    "    \n",
    "    for i, img_name in enumerate(img_names):\n",
    "        clear_output()\n",
    "        print(\"{2} -    {0}/{1}\".format(i + 1, len(img_names), pose_dir))\n",
    "        \n",
    "        im = Image.open(originals_pose_path + img_name)\n",
    "        rim = im.resize((downsampled_dim[0], downsampled_dim[1]), Image.ANTIALIAS)\n",
    "        rim.save(downsampled_pose_path + img_name)"
   ]
  },
  {
   "cell_type": "markdown",
   "metadata": {},
   "source": [
    "## Training-validation split"
   ]
  },
  {
   "cell_type": "code",
   "execution_count": 11,
   "metadata": {},
   "outputs": [],
   "source": [
    "seed = 0\n",
    "train_fraction = 0.8"
   ]
  },
  {
   "cell_type": "code",
   "execution_count": 12,
   "metadata": {},
   "outputs": [],
   "source": [
    "np.random.seed(seed)\n",
    "\n",
    "for pose_dir in os.listdir(full_dir):\n",
    "    \n",
    "    full_pose_path = full_dir + pose_dir + \"/\"\n",
    "    training_pose_path = training_dir + pose_dir + \"/\"\n",
    "    validation_pose_path = validation_dir + pose_dir + \"/\"\n",
    "    \n",
    "    if not os.path.exists(training_pose_path):\n",
    "        os.makedirs(training_pose_path)\n",
    "        \n",
    "    if not os.path.exists(validation_pose_path):\n",
    "        os.makedirs(validation_pose_path)\n",
    "    \n",
    "    img_names = os.listdir(full_pose_path)\n",
    "    n_images = len(img_names)\n",
    "    \n",
    "    # draw random indices\n",
    "    idx_training = set(np.random.choice(n_images, size = round(train_fraction * n_images), replace=False))\n",
    "    \n",
    "    # mask for training\n",
    "    use_for_training = [i in idx_training for i in range(n_images)]\n",
    "    \n",
    "    # copy to train or validation directory\n",
    "    for i, img_name in enumerate(img_names):\n",
    "        dest_pose_path = training_pose_path if use_for_training[i] else validation_pose_path\n",
    "        copyfile(full_pose_path + img_name, dest_pose_path + img_name)"
   ]
  },
  {
   "cell_type": "code",
   "execution_count": null,
   "metadata": {},
   "outputs": [],
   "source": []
  }
 ],
 "metadata": {
  "kernelspec": {
   "display_name": "Python 3",
   "language": "python",
   "name": "python3"
  },
  "language_info": {
   "codemirror_mode": {
    "name": "ipython",
    "version": 3
   },
   "file_extension": ".py",
   "mimetype": "text/x-python",
   "name": "python",
   "nbconvert_exporter": "python",
   "pygments_lexer": "ipython3",
   "version": "3.5.4"
  }
 },
 "nbformat": 4,
 "nbformat_minor": 2
}
